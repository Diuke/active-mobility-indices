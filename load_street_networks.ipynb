{
 "cells": [
  {
   "cell_type": "markdown",
   "metadata": {},
   "source": [
    "# Loading street networks\n",
    "\n",
    "Use this notebook to test that the street networks that were downloaded are correct."
   ]
  },
  {
   "cell_type": "code",
   "execution_count": null,
   "metadata": {},
   "outputs": [],
   "source": [
    "import warnings\n",
    "warnings.simplefilter(action='ignore', category=FutureWarning)\n",
    "warnings.simplefilter(action='ignore', category=UserWarning)\n",
    "warnings.simplefilter(action='ignore', category=RuntimeWarning)\n",
    "\n",
    "import modules.network_extractor as net_extractor\n",
    "import geopandas as geopd\n",
    "from shapely import ops\n",
    "from osmnx import settings\n",
    "import pyproj\n",
    "import networkx as nx\n",
    "import shapely"
   ]
  },
  {
   "cell_type": "code",
   "execution_count": null,
   "metadata": {},
   "outputs": [],
   "source": [
    "# Add here the absolute path to the data folder\n",
    "data_base_path = \"\"\n",
    "\n",
    "# The extractor instance\n",
    "extractor = net_extractor.NetworkExtractor(base_path=data_base_path)\n",
    " \n",
    "# Custom OSMnx settings\n",
    "settings.default_crs = \"epsg:4326\""
   ]
  },
  {
   "cell_type": "code",
   "execution_count": null,
   "metadata": {},
   "outputs": [],
   "source": [
    "city_name = 'reykjavik'  # Example city name, change as needed\n",
    "\n",
    "# Load the Pedestrian graph\n",
    "g_walk = extractor.load_graph(f'{city_name}/graph/walk_{city_name}')\n",
    "\n",
    "# Load the Cycling graph\n",
    "g_bike = extractor.load_graph(f'{city_name}/graph/bike_{city_name}')\n",
    "\n",
    "# Load the Road network graph\n",
    "g_drive = extractor.load_graph(f'{city_name}/graph/drive_{city_name}')\n",
    "\n",
    "# Load the Public Network graph\n",
    "g_public = extractor.load_graph(f'{city_name}/graph/public_{city_name}')"
   ]
  },
  {
   "cell_type": "code",
   "execution_count": 9,
   "metadata": {},
   "outputs": [
    {
     "name": "stdout",
     "output_type": "stream",
     "text": [
      "Pedestrian graph for reykjavik\n",
      "54967\n",
      "42329\n",
      "Cycling graph for reykjavik\n",
      "66642\n",
      "27876\n",
      "Drive graph for reykjavik\n",
      "16588\n",
      "8190\n",
      "Public Transport graph for reykjavik\n",
      "2841\n",
      "1625\n"
     ]
    }
   ],
   "source": [
    "print(f\"Pedestrian graph for {city_name}\")\n",
    "print(g_walk.number_of_edges())\n",
    "print(g_walk.number_of_nodes())\n",
    "\n",
    "print(f\"Cycling graph for {city_name}\")\n",
    "print(g_bike.number_of_edges())\n",
    "print(g_bike.number_of_nodes())\n",
    "\n",
    "print(f\"Drive graph for {city_name}\")\n",
    "print(g_drive.number_of_edges())\n",
    "print(g_drive.number_of_nodes())\n",
    "\n",
    "print(f\"Public Transport graph for {city_name}\")\n",
    "print(g_public.number_of_edges())\n",
    "print(g_public.number_of_nodes())"
   ]
  }
 ],
 "metadata": {
  "kernelspec": {
   "display_name": ".venv",
   "language": "python",
   "name": "python3"
  },
  "language_info": {
   "codemirror_mode": {
    "name": "ipython",
    "version": 3
   },
   "file_extension": ".py",
   "mimetype": "text/x-python",
   "name": "python",
   "nbconvert_exporter": "python",
   "pygments_lexer": "ipython3",
   "version": "3.11.3"
  }
 },
 "nbformat": 4,
 "nbformat_minor": 2
}
